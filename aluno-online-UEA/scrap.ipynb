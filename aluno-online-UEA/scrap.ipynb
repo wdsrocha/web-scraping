{
 "cells": [
  {
   "cell_type": "markdown",
   "metadata": {},
   "source": [
    "# Web Scraping no site da UEA\n",
    "\n",
    "O objetivo deste scraping é coletar os dados referentes às grades curriculares dos cursos da UEA e reorganizá-los em arquivos _csv_.\n",
    "\n",
    "Deixo como referência principal o tutorial de scraping do [RodrigoCMoraes](1), que além de ser simples, também referencia outros bons tutoriais. Recomendo!\n",
    "\n",
    "[1]:https://github.com/RodrigoCMoraes/web_scraping/blob/master/download_editais_fapeam/Download%20de%20Editais%20Vigentes%20FAPEAM.ipynb"
   ]
  },
  {
   "cell_type": "markdown",
   "metadata": {
    "toc": true
   },
   "source": [
    "<h1>Tabela de Conteúdos<span class=\"tocSkip\"></span></h1>\n",
    "<div class=\"toc\"><ul class=\"toc-item\"><li><span><a href=\"#Primeira-página-de-login\" data-toc-modified-id=\"Primeira-página-de-login-1\">Primeira página de login</a></span></li><li><span><a href=\"#Segunda-página-de-login-(???)\" data-toc-modified-id=\"Segunda-página-de-login-(???)-2\">Segunda página de login (???)</a></span></li><li><span><a href=\"#Página-com-informação-sobre-os-cursos\" data-toc-modified-id=\"Página-com-informação-sobre-os-cursos-3\">Página com informação sobre os cursos</a></span></li><li><span><a href=\"#Grade-curricular\" data-toc-modified-id=\"Grade-curricular-4\">Grade curricular</a></span></li><li><span><a href=\"#Tratamento-dos-dados\" data-toc-modified-id=\"Tratamento-dos-dados-5\">Tratamento dos dados</a></span></li></ul></div>"
   ]
  },
  {
   "cell_type": "code",
   "execution_count": null,
   "metadata": {
    "ExecuteTime": {
     "end_time": "2018-10-28T19:35:55.651785Z",
     "start_time": "2018-10-28T19:35:55.064232Z"
    },
    "collapsed": true
   },
   "outputs": [],
   "source": [
    "import re, sys, requests, json\n",
    "from bs4 import BeautifulSoup, Tag\n",
    "from ast import literal_eval\n",
    "import pandas as pd\n",
    "sys.setrecursionlimit(10000)"
   ]
  },
  {
   "cell_type": "code",
   "execution_count": null,
   "metadata": {
    "ExecuteTime": {
     "end_time": "2018-10-28T19:35:55.670572Z",
     "start_time": "2018-10-28T19:35:55.654662Z"
    },
    "collapsed": true
   },
   "outputs": [],
   "source": [
    "# Funções auxiliares\n",
    "\n",
    "def fix(s):\n",
    "    if s is None:\n",
    "        s = ''\n",
    "    return re.sub(' \\w\\w? ', ',', s)\n",
    "\n",
    "def is_grade_curricular(tag):\n",
    "    return tag.name == 'a' and tag.next_element == 'Grade Curricular'\n",
    "\n",
    "# mostra o histórico dos redirecionamentos\n",
    "def track(last_page):\n",
    "    for page in last_page.history+[last_page]:\n",
    "        print(f'{page}: {page.url} (text_len={len(page.text)})')"
   ]
  },
  {
   "cell_type": "code",
   "execution_count": null,
   "metadata": {
    "ExecuteTime": {
     "end_time": "2018-10-28T19:35:55.928392Z",
     "start_time": "2018-10-28T19:35:55.673676Z"
    },
    "collapsed": true
   },
   "outputs": [],
   "source": [
    "session = requests.Session()\n",
    "# Melhorar forma de esconder as credenciais?\n",
    "config = json.load(open('credentials.json'))"
   ]
  },
  {
   "cell_type": "markdown",
   "metadata": {},
   "source": [
    "### Primeira página de login\n",
    "\n",
    "Para saber qual as chaves do payload, basta inspecionar o elemento com o mouse em cima da caixa de login."
   ]
  },
  {
   "cell_type": "code",
   "execution_count": null,
   "metadata": {
    "ExecuteTime": {
     "end_time": "2018-10-28T19:35:56.360779Z",
     "start_time": "2018-10-28T19:35:55.930310Z"
    }
   },
   "outputs": [],
   "source": [
    "payload_login = dict(\n",
    "    username=config['login']['username'], # atribuindo dessa forma pra não ocultar as chaves ;)\n",
    "    password=config['login']['password'])\n",
    "url_login = 'http://www1.uea.edu.br/modulo/login/lyceum2.php'\n",
    "result = session.post(url_login, data=payload_login, headers=dict(referer=url_login))\n",
    "track(result)"
   ]
  },
  {
   "cell_type": "markdown",
   "metadata": {},
   "source": [
    "### Segunda página de login (???)\n",
    "\n",
    "Aqui as coisas ficam um pouco estranhas (ou eu realmente não tenho conhecimento sobre essa \"técnica\").\n",
    "\n",
    "Basicamente, se você analisar a aba _networking_ do _inspecionar elemento_ enquanto faz o login no aluno online, o site rapidamente o redireciona para outra página de login, antes de realizar o login de fato. Essa seguna página de login é preenchida automaticamente, mas o que me preocupa é que para logar no aluno online, **você não precisa logar na primeira página, apenas na segunda**.\n",
    "\n",
    "Isso é, observando o payload dessa requisição POST, o necessário para alguém entrar na sua conta é saber sua matrícula, seu *txtsenha_tac* e sua *txtsenha*. Não sei o que são esses dois últimos parâmetros, mas eu espero que seja uma chave gerada utilizando nosso email institucional + senha.\n",
    "\n",
    "Vale notar também que essas possíveis chaves são constantes, logo, não mudam por sessão. Bom, fica o mistério do porquê é implementado desse jeito (pelo menos para mim).\n",
    "\n",
    "Segue uma pequena demonstração de como pegar o valor desses parâmetros para _seu_ login:\n",
    "![](media/middle_logon.gif)\n",
    "\n",
    "Será que podemos automatizar? :)"
   ]
  },
  {
   "cell_type": "code",
   "execution_count": null,
   "metadata": {
    "ExecuteTime": {
     "end_time": "2018-10-28T19:35:57.122003Z",
     "start_time": "2018-10-28T19:35:56.364470Z"
    }
   },
   "outputs": [],
   "source": [
    "payload_middle_logon = dict(\n",
    "    txtnumero_matricula=config['middle_logon']['txtnumero_matricula'],\n",
    "    txtsenha_tac       =config['middle_logon']['txtsenha_tac'],\n",
    "    txtsenha           =config['middle_logon']['txtsenha'])\n",
    "url_middle_logon = 'http://www1.uea.edu.br/lyceump/aonline/middle_logon.asp'\n",
    "result = session.post(url_middle_logon, data=payload_middle_logon, headers=dict(refer=url_middle_logon))\n",
    "track(result)"
   ]
  },
  {
   "cell_type": "markdown",
   "metadata": {},
   "source": [
    "### Página com informação sobre os cursos\n",
    "\n",
    "![cursos](media/cursos.png)"
   ]
  },
  {
   "cell_type": "code",
   "execution_count": null,
   "metadata": {
    "ExecuteTime": {
     "end_time": "2018-10-28T19:35:58.357569Z",
     "start_time": "2018-10-28T19:35:57.124832Z"
    }
   },
   "outputs": [],
   "source": [
    "url_cursos = 'http://www1.uea.edu.br/lyceump/aonline/cursos.asp'\n",
    "result = session.get(url_cursos)\n",
    "content = BeautifulSoup(result.content, 'lxml')\n",
    "track(result)"
   ]
  },
  {
   "cell_type": "markdown",
   "metadata": {},
   "source": [
    "### Grade curricular\n",
    "\n",
    "Inicialmente seleciono apenas uma grade de um curso específico, mas é possível generalizar para todos as grades sem muita dificuldade.\n",
    "\n",
    "![grade](media/grade.png)"
   ]
  },
  {
   "cell_type": "code",
   "execution_count": null,
   "metadata": {
    "ExecuteTime": {
     "end_time": "2018-10-28T19:35:59.059220Z",
     "start_time": "2018-10-28T19:35:58.360103Z"
    }
   },
   "outputs": [],
   "source": [
    "links = content.find_all(is_grade_curricular)\n",
    "link = links[1874] # grade atual de SI\n",
    "\n",
    "keys = ['cursonome', 'curso', 'turno', 'curriculo', 'alt']\n",
    "params_raw = re.search('\\((.*)\\);$', link['href']).groups(1)[0]\n",
    "params = list(literal_eval(params_raw))\n",
    "payload = {key: val for key, val in zip(keys, params)}\n",
    "print(payload)\n",
    "url_grade = 'http://www1.uea.edu.br/lyceump/aonline/grade.asp'\n",
    "result = session.post(url_grade, data=payload, headers=dict(refer=url_grade))\n",
    "track(result)"
   ]
  },
  {
   "cell_type": "markdown",
   "metadata": {},
   "source": [
    "### Tratamento dos dados"
   ]
  },
  {
   "cell_type": "code",
   "execution_count": null,
   "metadata": {
    "ExecuteTime": {
     "end_time": "2018-10-28T19:35:59.148264Z",
     "start_time": "2018-10-28T19:35:59.061614Z"
    },
    "collapsed": true
   },
   "outputs": [],
   "source": [
    "# Não usar lxml como parser: https://stackoverflow.com/a/21655159\n",
    "content = BeautifulSoup(result.content, 'html5lib')"
   ]
  },
  {
   "cell_type": "code",
   "execution_count": null,
   "metadata": {
    "ExecuteTime": {
     "end_time": "2018-10-28T19:35:59.302121Z",
     "start_time": "2018-10-28T19:35:59.150613Z"
    }
   },
   "outputs": [],
   "source": [
    "# Seleciona a primeira linha \"amarela\" na tabela\n",
    "# Depois, itera sobre as linhas da tabela e trata as informações relevantes\n",
    "first_row = content.find(class_='tr01t')\n",
    "relevant_rows = first_row.find_next_siblings(class_=['font02', 'tr01', 'tr01a'])\n",
    "periodo = 1\n",
    "disciplinas = []\n",
    "for row in relevant_rows:\n",
    "    if (row['class'] == ['font02']):\n",
    "        periodo += 1\n",
    "    else:\n",
    "        cod_nome, prereqs, equivs = (dado.string for dado in row.children)\n",
    "        codigo = cod_nome.split()[0]\n",
    "        nome = \" \".join(cod_nome.split()[2:])\n",
    "        prereqs = fix(prereqs)\n",
    "        equivs = fix(equivs)\n",
    "        disciplinas.append([codigo, nome, prereqs, equivs, periodo])\n",
    "\n",
    "columns = ['cod', 'nome', 'prereq', 'equiv', 'periodo']\n",
    "grade = pd.DataFrame(disciplinas, columns=columns).set_index('cod')\n",
    "grade # Precisa de redução transitiva."
   ]
  },
  {
   "cell_type": "code",
   "execution_count": null,
   "metadata": {
    "ExecuteTime": {
     "end_time": "2018-10-28T19:35:59.578428Z",
     "start_time": "2018-10-28T19:35:59.304489Z"
    },
    "collapsed": true
   },
   "outputs": [],
   "source": [
    "grade.to_csv('data.csv')"
   ]
  }
 ],
 "metadata": {
  "kernelspec": {
   "display_name": "Python 3",
   "language": "python",
   "name": "python3"
  },
  "language_info": {
   "codemirror_mode": {
    "name": "ipython",
    "version": 3
   },
   "file_extension": ".py",
   "mimetype": "text/x-python",
   "name": "python",
   "nbconvert_exporter": "python",
   "pygments_lexer": "ipython3",
   "version": "3.6.3"
  },
  "toc": {
   "base_numbering": 1,
   "nav_menu": {},
   "number_sections": false,
   "sideBar": true,
   "skip_h1_title": true,
   "title_cell": "Tabela de Conteúdos",
   "title_sidebar": "Conteúdos",
   "toc_cell": true,
   "toc_position": {},
   "toc_section_display": true,
   "toc_window_display": true
  },
  "varInspector": {
   "cols": {
    "lenName": 16,
    "lenType": 16,
    "lenVar": 40
   },
   "kernels_config": {
    "python": {
     "delete_cmd_postfix": "",
     "delete_cmd_prefix": "del ",
     "library": "var_list.py",
     "varRefreshCmd": "print(var_dic_list())"
    },
    "r": {
     "delete_cmd_postfix": ") ",
     "delete_cmd_prefix": "rm(",
     "library": "var_list.r",
     "varRefreshCmd": "cat(var_dic_list()) "
    }
   },
   "types_to_exclude": [
    "module",
    "function",
    "builtin_function_or_method",
    "instance",
    "_Feature"
   ],
   "window_display": false
  }
 },
 "nbformat": 4,
 "nbformat_minor": 2
}
